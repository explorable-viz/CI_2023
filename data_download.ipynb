{
 "cells": [
  {
   "cell_type": "code",
   "execution_count": 1,
   "id": "ed904974-b3cd-448b-8204-37829caffc66",
   "metadata": {
    "tags": []
   },
   "outputs": [
    {
     "name": "stderr",
     "output_type": "stream",
     "text": [
      "WARNING:pint.util:Redefining 'year' (<class 'pint.delegates.txt_defparser.plain.UnitDefinition'>)\n",
      "WARNING:pint.util:Redefining 'yr' (<class 'pint.delegates.txt_defparser.plain.UnitDefinition'>)\n",
      "WARNING:pint.util:Redefining 'C' (<class 'pint.delegates.txt_defparser.plain.UnitDefinition'>)\n",
      "WARNING:pint.util:Redefining 'd' (<class 'pint.delegates.txt_defparser.plain.UnitDefinition'>)\n",
      "WARNING:pint.util:Redefining 'h' (<class 'pint.delegates.txt_defparser.plain.UnitDefinition'>)\n",
      "WARNING:pint.util:Redefining 'degrees_north' (<class 'pint.delegates.txt_defparser.plain.UnitDefinition'>)\n",
      "WARNING:pint.util:Redefining 'degrees_east' (<class 'pint.delegates.txt_defparser.plain.UnitDefinition'>)\n",
      "WARNING:pint.util:Redefining '[speed]' (<class 'pint.delegates.txt_defparser.plain.DerivedDimensionDefinition'>)\n",
      "WARNING:pint.util:Redefining '[radiation]' (<class 'pint.delegates.txt_defparser.plain.DerivedDimensionDefinition'>)\n"
     ]
    }
   ],
   "source": [
    "import os\n",
    "import numpy as np\n",
    "import xarray as xr\n",
    "import pandas as pd\n",
    "from pyesgf.search import SearchConnection\n",
    "os.environ[\"ESGF_PYCLIENT_NO_FACETS_STAR_WARNING\"] = \"on\"\n",
    "from geopy.geocoders import Nominatim\n",
    "from pyesgf.search import SearchConnection\n",
    "from dask.diagnostics import ProgressBar\n",
    "from utils import *\n",
    "\n",
    "wd = os.getcwd()\n",
    "models_dir=os.path.join(wd, 'data/models')\n",
    "reference_dir=os.path.join(wd, 'data/reference')"
   ]
  },
  {
   "cell_type": "code",
   "execution_count": 2,
   "id": "fe07741a-46e2-4f93-a38c-a7d2585a7942",
   "metadata": {
    "tags": []
   },
   "outputs": [
    {
     "name": "stdout",
     "output_type": "stream",
     "text": [
      "Location, (lat, lon):  Nairobi, Kenya (-1.2832533, 36.8172449)\n"
     ]
    }
   ],
   "source": [
    "city = 'Nairobi'\n",
    "latitude, longitude = get_coords(city)"
   ]
  },
  {
   "cell_type": "code",
   "execution_count": 3,
   "id": "06f8cea4-b372-48ab-b233-f15107cb0801",
   "metadata": {
    "tags": []
   },
   "outputs": [],
   "source": [
    "# reanalysis reference dataset W5E5 can be downloaded from: https://data.isimip.org/datasets/96369b63-4fbf-4b90-8b58-79e5f50a385a/\n",
    "W5E5 = xr.open_mfdataset('data/W5E5/*.nc', engine = 'netcdf4').sel(lat=latitude, lon=longitude, method='nearest').convert_calendar(\"noleap\")"
   ]
  },
  {
   "cell_type": "code",
   "execution_count": 4,
   "id": "a5de8bec-28a8-4e81-97a1-64cc026272a2",
   "metadata": {
    "tags": []
   },
   "outputs": [
    {
     "name": "stdout",
     "output_type": "stream",
     "text": [
      "Number of search results: 4\n",
      "Retrieving search results:  CMIP6.CMIP.IPSL.IPSL-CM6A-LR.historical.r1i1p1f1.day.tas.gr.v20190614|esgf.ceda.ac.uk\n",
      "Retrieving search results:  CMIP6.CMIP.NOAA-GFDL.GFDL-ESM4.historical.r1i1p1f1.day.tas.gr1.v20190726|esgf.ceda.ac.uk\n",
      "Retrieving search results:  CMIP6.CMIP.MRI.MRI-ESM2-0.historical.r1i1p1f1.day.tas.gn.v20190603|esgf.ceda.ac.uk\n",
      "Retrieving search results:  CMIP6.CMIP.MPI-M.MPI-ESM1-2-HR.historical.r1i1p1f1.day.tas.gn.v20190710|esgf.ceda.ac.uk\n"
     ]
    },
    {
     "data": {
      "text/html": [
       "<div>\n",
       "<style scoped>\n",
       "    .dataframe tbody tr th:only-of-type {\n",
       "        vertical-align: middle;\n",
       "    }\n",
       "\n",
       "    .dataframe tbody tr th {\n",
       "        vertical-align: top;\n",
       "    }\n",
       "\n",
       "    .dataframe thead th {\n",
       "        text-align: right;\n",
       "    }\n",
       "</style>\n",
       "<table border=\"1\" class=\"dataframe\">\n",
       "  <thead>\n",
       "    <tr style=\"text-align: right;\">\n",
       "      <th></th>\n",
       "      <th>model</th>\n",
       "      <th>dataset_id</th>\n",
       "      <th>filename</th>\n",
       "      <th>url</th>\n",
       "    </tr>\n",
       "  </thead>\n",
       "  <tbody>\n",
       "    <tr>\n",
       "      <th>0</th>\n",
       "      <td>GFDL-ESM4</td>\n",
       "      <td>[CMIP6.CMIP.NOAA-GFDL.GFDL-ESM4.historical.r1i...</td>\n",
       "      <td>[tas_day_GFDL-ESM4_historical_r1i1p1f1_gr1_185...</td>\n",
       "      <td>[https://esgf.ceda.ac.uk/thredds/dodsC/esg_cmi...</td>\n",
       "    </tr>\n",
       "    <tr>\n",
       "      <th>1</th>\n",
       "      <td>IPSL-CM6A-LR</td>\n",
       "      <td>[CMIP6.CMIP.IPSL.IPSL-CM6A-LR.historical.r1i1p...</td>\n",
       "      <td>[tas_day_IPSL-CM6A-LR_historical_r1i1p1f1_gr_1...</td>\n",
       "      <td>[https://esgf.ceda.ac.uk/thredds/dodsC/esg_cmi...</td>\n",
       "    </tr>\n",
       "    <tr>\n",
       "      <th>2</th>\n",
       "      <td>MPI-ESM1-2-HR</td>\n",
       "      <td>[CMIP6.CMIP.MPI-M.MPI-ESM1-2-HR.historical.r1i...</td>\n",
       "      <td>[tas_day_MPI-ESM1-2-HR_historical_r1i1p1f1_gn_...</td>\n",
       "      <td>[https://esgf.ceda.ac.uk/thredds/dodsC/esg_cmi...</td>\n",
       "    </tr>\n",
       "    <tr>\n",
       "      <th>3</th>\n",
       "      <td>MRI-ESM2-0</td>\n",
       "      <td>[CMIP6.CMIP.MRI.MRI-ESM2-0.historical.r1i1p1f1...</td>\n",
       "      <td>[tas_day_MRI-ESM2-0_historical_r1i1p1f1_gn_185...</td>\n",
       "      <td>[https://esgf.ceda.ac.uk/thredds/dodsC/esg_cmi...</td>\n",
       "    </tr>\n",
       "  </tbody>\n",
       "</table>\n",
       "</div>"
      ],
      "text/plain": [
       "           model                                         dataset_id  \\\n",
       "0      GFDL-ESM4  [CMIP6.CMIP.NOAA-GFDL.GFDL-ESM4.historical.r1i...   \n",
       "1   IPSL-CM6A-LR  [CMIP6.CMIP.IPSL.IPSL-CM6A-LR.historical.r1i1p...   \n",
       "2  MPI-ESM1-2-HR  [CMIP6.CMIP.MPI-M.MPI-ESM1-2-HR.historical.r1i...   \n",
       "3     MRI-ESM2-0  [CMIP6.CMIP.MRI.MRI-ESM2-0.historical.r1i1p1f1...   \n",
       "\n",
       "                                            filename  \\\n",
       "0  [tas_day_GFDL-ESM4_historical_r1i1p1f1_gr1_185...   \n",
       "1  [tas_day_IPSL-CM6A-LR_historical_r1i1p1f1_gr_1...   \n",
       "2  [tas_day_MPI-ESM1-2-HR_historical_r1i1p1f1_gn_...   \n",
       "3  [tas_day_MRI-ESM2-0_historical_r1i1p1f1_gn_185...   \n",
       "\n",
       "                                                 url  \n",
       "0  [https://esgf.ceda.ac.uk/thredds/dodsC/esg_cmi...  \n",
       "1  [https://esgf.ceda.ac.uk/thredds/dodsC/esg_cmi...  \n",
       "2  [https://esgf.ceda.ac.uk/thredds/dodsC/esg_cmi...  \n",
       "3  [https://esgf.ceda.ac.uk/thredds/dodsC/esg_cmi...  "
      ]
     },
     "execution_count": 4,
     "metadata": {},
     "output_type": "execute_result"
    }
   ],
   "source": [
    "project='CMIP6'\n",
    "models = 'GFDL-ESM4,IPSL-CM6A-LR,MPI-ESM1-2-HR,MRI-ESM2-0'#,UKESM1-0-LL'\n",
    "variable_id = 'tas'\n",
    "table_id = 'day'\n",
    "experiment_id='historical'\n",
    "member_id='r1i1p1f1,r1i1p1f2' # f1 not available for UKESM1-0-LL\n",
    "\n",
    "connection = SearchConnection('https://esgf-data.dkrz.de/esg-search', distrib=True)\n",
    "query = connection.new_context(\n",
    "    latest = True,\n",
    "    project='CMIP6',\n",
    "    source_id=models,\n",
    "    experiment_id=experiment_id,\n",
    "    variable_id=variable_id,\n",
    "    table_id=table_id,\n",
    "    member_id=member_id,\n",
    "    data_node='esgf.ceda.ac.uk')\n",
    "\n",
    "print(\"Number of search results:\", query.hit_count)\n",
    "\n",
    "results = query.search()\n",
    "files=[]\n",
    "for i, result in enumerate(results):\n",
    "    print(\"Retrieving search results: \", result.dataset_id)\n",
    "    #print(result.json)\n",
    "    files.extend(list(map(lambda f : {'model': f.json['source_id'].pop(), 'dataset_id': result.dataset_id, 'filename': f.filename, 'url': f.opendap_url}, result.file_context().search())))    \n",
    "    \n",
    "files = list(files)\n",
    "files = pd.DataFrame.from_dict(files)\n",
    "files.drop_duplicates('filename')\n",
    "\n",
    "grouped_files = files.groupby('model', as_index=False).agg(list)\n",
    "grouped_files"
   ]
  },
  {
   "cell_type": "code",
   "execution_count": 5,
   "id": "f6d887c9-67ce-431d-b685-1c0936af6899",
   "metadata": {
    "tags": []
   },
   "outputs": [
    {
     "name": "stdout",
     "output_type": "stream",
     "text": [
      "Selecting location...\n",
      "Loading dataset:  GFDL-ESM4\n",
      "Selecting location...\n",
      "Loading dataset:  IPSL-CM6A-LR\n",
      "Selecting location...\n",
      "Loading dataset:  MPI-ESM1-2-HR\n",
      "Selecting location...\n",
      "Loading dataset:  MRI-ESM2-0\n"
     ]
    }
   ],
   "source": [
    "# load all files from url list for each model into xarray multi-file dataset\n",
    "\n",
    "start_time = W5E5.time[0].values\n",
    "end_time = W5E5.time[-1].values\n",
    "\n",
    "data={}\n",
    "for i,model in enumerate(grouped_files.model):\n",
    "    print(\"Selecting location...\")\n",
    "    print(\"Loading dataset: \", model)\n",
    "\n",
    "    data[model]=xr.open_mfdataset(grouped_files.iloc[i].url, chunks={'time': 120}).sel(\n",
    "        lat=latitude, lon=longitude, method='nearest').convert_calendar(\n",
    "        'noleap', align_on='year', missing='NaN').sel(\n",
    "        time=slice(start_time,end_time)).interpolate_na(method='nearest')"
   ]
  },
  {
   "cell_type": "code",
   "execution_count": 6,
   "id": "4a9b4fb3-0a5d-46e9-bc45-2bf99862b3b1",
   "metadata": {
    "tags": []
   },
   "outputs": [
    {
     "name": "stdout",
     "output_type": "stream",
     "text": [
      "Saving  GFDL-ESM4 for selected city  Nairobi\n",
      "[########################################] | 100% Completed | 104.11 ms\n",
      "[########################################] | 100% Completed | 102.58 ms\n",
      "[########################################] | 100% Completed | 102.55 ms\n",
      "[########################################] | 100% Completed | 104.89 ms\n",
      "[########################################] | 100% Completed | 106.46 ms\n",
      "[########################################] | 100% Completed | 105.93 ms\n",
      "[########################################] | 100% Completed | 40.49 s\n",
      "[########################################] | 100% Completed | 33.18 s\n",
      "Saving  IPSL-CM6A-LR for selected city  Nairobi\n",
      "[####################                    ] | 50% Completed | 105.83 ms"
     ]
    },
    {
     "name": "stderr",
     "output_type": "stream",
     "text": [
      "/opt/anaconda3/envs/CI_2023/lib/python3.9/site-packages/xarray/conventions.py:471: UserWarning: Variable 'time' has datetime type and a bounds variable but time.encoding does not have units specified. The units encodings for 'time' and 'time_bounds' will be determined independently and may not be equal, counter to CF-conventions. If this is a concern, specify a units encoding for 'time' before writing to a file.\n",
      "  warnings.warn(\n"
     ]
    },
    {
     "name": "stdout",
     "output_type": "stream",
     "text": [
      "[########################################] | 100% Completed | 211.85 ms\n",
      "[#################################       ] | 83% Completed | 102.38 ms"
     ]
    },
    {
     "name": "stderr",
     "output_type": "stream",
     "text": [
      "/opt/anaconda3/envs/CI_2023/lib/python3.9/site-packages/xarray/conventions.py:471: UserWarning: Variable 'time' has datetime type and a bounds variable but time.encoding does not have units specified. The units encodings for 'time' and 'time_bounds' will be determined independently and may not be equal, counter to CF-conventions. If this is a concern, specify a units encoding for 'time' before writing to a file.\n",
      "  warnings.warn(\n"
     ]
    },
    {
     "name": "stdout",
     "output_type": "stream",
     "text": [
      "[########################################] | 100% Completed | 204.16 ms\n",
      "[########################################] | 100% Completed | 17.99 ss\n",
      "[########################################] | 100% Completed | 15.00 ss\n",
      "Saving  MPI-ESM1-2-HR for selected city  Nairobi\n",
      "[########################################] | 100% Completed | 106.52 ms\n",
      "[                                        ] | 0% Completed | 117.42 us"
     ]
    },
    {
     "name": "stderr",
     "output_type": "stream",
     "text": [
      "/opt/anaconda3/envs/CI_2023/lib/python3.9/site-packages/xarray/conventions.py:471: UserWarning: Variable 'time' has datetime type and a bounds variable but time.encoding does not have units specified. The units encodings for 'time' and 'time_bnds' will be determined independently and may not be equal, counter to CF-conventions. If this is a concern, specify a units encoding for 'time' before writing to a file.\n",
      "  warnings.warn(\n",
      "/opt/anaconda3/envs/CI_2023/lib/python3.9/site-packages/xarray/conventions.py:471: UserWarning: Variable 'time' has datetime type and a bounds variable but time.encoding does not have units specified. The units encodings for 'time' and 'time_bnds' will be determined independently and may not be equal, counter to CF-conventions. If this is a concern, specify a units encoding for 'time' before writing to a file.\n",
      "  warnings.warn(\n"
     ]
    },
    {
     "name": "stdout",
     "output_type": "stream",
     "text": [
      "[########################################] | 100% Completed | 105.47 ms\n",
      "[########################################] | 100% Completed | 58.19 ss\n",
      "[########################################] | 100% Completed | 48.24 ss\n",
      "Saving  MRI-ESM2-0 for selected city  Nairobi\n",
      "[####################                    ] | 50% Completed | 102.68 ms"
     ]
    },
    {
     "name": "stderr",
     "output_type": "stream",
     "text": [
      "/opt/anaconda3/envs/CI_2023/lib/python3.9/site-packages/xarray/conventions.py:471: UserWarning: Variable 'time' has datetime type and a bounds variable but time.encoding does not have units specified. The units encodings for 'time' and 'time_bnds' will be determined independently and may not be equal, counter to CF-conventions. If this is a concern, specify a units encoding for 'time' before writing to a file.\n",
      "  warnings.warn(\n"
     ]
    },
    {
     "name": "stdout",
     "output_type": "stream",
     "text": [
      "[########################################] | 100% Completed | 306.72 ms\n",
      "[##########################              ] | 66% Completed | 102.01 ms"
     ]
    },
    {
     "name": "stderr",
     "output_type": "stream",
     "text": [
      "/opt/anaconda3/envs/CI_2023/lib/python3.9/site-packages/xarray/conventions.py:471: UserWarning: Variable 'time' has datetime type and a bounds variable but time.encoding does not have units specified. The units encodings for 'time' and 'time_bnds' will be determined independently and may not be equal, counter to CF-conventions. If this is a concern, specify a units encoding for 'time' before writing to a file.\n",
      "  warnings.warn(\n"
     ]
    },
    {
     "name": "stdout",
     "output_type": "stream",
     "text": [
      "[########################################] | 100% Completed | 206.27 ms\n",
      "[########################################] | 100% Completed | 40.37 ss\n",
      "[########################################] | 100% Completed | 37.20 ss\n"
     ]
    }
   ],
   "source": [
    "os.chdir(wd)\n",
    "for model, dataset in data.items():\n",
    "    print(\"Saving \", model, \"for selected city \", city)\n",
    "    identifier = '_'.join([model, city])\n",
    "    years, y_datasets = zip(*dataset.groupby(\"time.year\"))\n",
    "    fns=[identifier+f'_{y}.nc' for y in years]\n",
    "    paths=[os.path.join(models_dir,fn) for fn in fns]\n",
    "    with ProgressBar():\n",
    "        xr.save_mfdataset(y_datasets[-2:], paths[-2:], mode=\"w\") # saving only 2 years of data for demo"
   ]
  },
  {
   "cell_type": "code",
   "execution_count": 7,
   "id": "f5eba078",
   "metadata": {
    "tags": []
   },
   "outputs": [
    {
     "name": "stdout",
     "output_type": "stream",
     "text": [
      "Saving reference for selected city  Nairobi\n",
      "[########################################] | 100% Completed | 20.77 ss\n",
      "[########################################] | 100% Completed | 13.67 ss\n"
     ]
    }
   ],
   "source": [
    "os.chdir(wd)\n",
    "end_time = min([dataset.time[-1].values for dataset in data.values()])\n",
    "reference = W5E5.sel(time=slice(start_time,end_time))\n",
    "print(\"Saving reference for selected city \", city)\n",
    "identifier = '_'.join(['W5E5', city])\n",
    "years, y_datasets = zip(*reference.groupby(\"time.year\"))\n",
    "fns=[identifier+f'_{y}.nc' for y in years]\n",
    "paths=[os.path.join(reference_dir,fn) for fn in fns]\n",
    "with ProgressBar():\n",
    "    xr.save_mfdataset(y_datasets[-2:], paths[-2:], mode=\"w\")"
   ]
  }
 ],
 "metadata": {
  "kernelspec": {
   "display_name": "Python 3 (ipykernel)",
   "language": "python",
   "name": "python3"
  },
  "language_info": {
   "codemirror_mode": {
    "name": "ipython",
    "version": 3
   },
   "file_extension": ".py",
   "mimetype": "text/x-python",
   "name": "python",
   "nbconvert_exporter": "python",
   "pygments_lexer": "ipython3",
   "version": "3.9.16"
  }
 },
 "nbformat": 4,
 "nbformat_minor": 5
}
