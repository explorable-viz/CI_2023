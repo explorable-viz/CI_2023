{
 "cells": [
  {
   "cell_type": "code",
   "execution_count": 2,
   "id": "ed904974-b3cd-448b-8204-37829caffc66",
   "metadata": {
    "tags": []
   },
   "outputs": [
    {
     "name": "stdout",
     "output_type": "stream",
     "text": [
      "/home/minh/Documents/CI_2023\n"
     ]
    }
   ],
   "source": [
    "import os\n",
    "import numpy as np\n",
    "import xarray as xr\n",
    "import pandas as pd\n",
    "import pyesgf as pyesgf\n",
    "from pyesgf.search import SearchConnection\n",
    "os.environ[\"ESGF_PYCLIENT_NO_FACETS_STAR_WARNING\"] = \"on\"\n",
    "from geopy.geocoders import Nominatim\n",
    "from pyesgf.search import SearchConnection\n",
    "from dask.diagnostics import ProgressBar\n",
    "from utils import *\n",
    "\n",
    "wd = os.getcwd()\n",
    "print(wd)\n",
    "# Make sure these directories exist\n",
    "models_dir=os.path.join(wd, 'data/models')\n",
    "reference_dir=os.path.join(wd, 'data/reference')\n",
    "if not os.path.exists(models_dir):\n",
    "  os.makedirs(models_dir)\n",
    "if not os.path.exists(reference_dir):\n",
    "  os.makedirs(reference_dir)"
   ]
  },
  {
   "cell_type": "code",
   "execution_count": 7,
   "id": "fe07741a-46e2-4f93-a38c-a7d2585a7942",
   "metadata": {
    "tags": []
   },
   "outputs": [
    {
     "name": "stdout",
     "output_type": "stream",
     "text": [
      "Location, (lat, lon):  Nairobi, Kenya (-1.3026148499999999, 36.82884201813725)\n"
     ]
    }
   ],
   "source": [
    "city = 'Nairobi'\n",
    "latitude, longitude = get_coords(city)"
   ]
  },
  {
   "cell_type": "code",
   "execution_count": 8,
   "id": "06f8cea4-b372-48ab-b233-f15107cb0801",
   "metadata": {
    "tags": []
   },
   "outputs": [],
   "source": [
    "# %%\n",
    "# Download any of the reanalysis reference .nc datasets W5E5 from: https://data.isimip.org/datasets/96369b63-4fbf-4b90-8b58-79e5f50a385a/, and add it to the current working directory.\n",
    "W5E5 = xr.open_mfdataset(os.path.join(wd, '*.nc'), engine = 'netcdf4').sel(lat=latitude, lon=longitude, method='nearest').convert_calendar(\"noleap\")"
   ]
  },
  {
   "cell_type": "code",
   "execution_count": 10,
   "id": "a5de8bec-28a8-4e81-97a1-64cc026272a2",
   "metadata": {
    "tags": []
   },
   "outputs": [
    {
     "name": "stdout",
     "output_type": "stream",
     "text": [
      "Number of search results: 4\n",
      "Retrieving search results:  CMIP6.CMIP.IPSL.IPSL-CM6A-LR.historical.r1i1p1f1.day.tas.gr.v20190614|esgf.ceda.ac.uk\n",
      "Retrieving search results:  CMIP6.CMIP.NOAA-GFDL.GFDL-ESM4.historical.r1i1p1f1.day.tas.gr1.v20190726|esgf.ceda.ac.uk\n",
      "Retrieving search results:  CMIP6.CMIP.MRI.MRI-ESM2-0.historical.r1i1p1f1.day.tas.gn.v20190603|esgf.ceda.ac.uk\n",
      "Retrieving search results:  CMIP6.CMIP.MPI-M.MPI-ESM1-2-HR.historical.r1i1p1f1.day.tas.gn.v20190710|esgf.ceda.ac.uk\n"
     ]
    },
    {
     "data": {
      "text/html": [
       "<div>\n",
       "<style scoped>\n",
       "    .dataframe tbody tr th:only-of-type {\n",
       "        vertical-align: middle;\n",
       "    }\n",
       "\n",
       "    .dataframe tbody tr th {\n",
       "        vertical-align: top;\n",
       "    }\n",
       "\n",
       "    .dataframe thead th {\n",
       "        text-align: right;\n",
       "    }\n",
       "</style>\n",
       "<table border=\"1\" class=\"dataframe\">\n",
       "  <thead>\n",
       "    <tr style=\"text-align: right;\">\n",
       "      <th></th>\n",
       "      <th>model</th>\n",
       "      <th>dataset_id</th>\n",
       "      <th>filename</th>\n",
       "      <th>url</th>\n",
       "    </tr>\n",
       "  </thead>\n",
       "  <tbody>\n",
       "    <tr>\n",
       "      <th>0</th>\n",
       "      <td>GFDL-ESM4</td>\n",
       "      <td>[CMIP6.CMIP.NOAA-GFDL.GFDL-ESM4.historical.r1i...</td>\n",
       "      <td>[tas_day_GFDL-ESM4_historical_r1i1p1f1_gr1_185...</td>\n",
       "      <td>[https://esgf.ceda.ac.uk/thredds/dodsC/esg_cmi...</td>\n",
       "    </tr>\n",
       "    <tr>\n",
       "      <th>1</th>\n",
       "      <td>IPSL-CM6A-LR</td>\n",
       "      <td>[CMIP6.CMIP.IPSL.IPSL-CM6A-LR.historical.r1i1p...</td>\n",
       "      <td>[tas_day_IPSL-CM6A-LR_historical_r1i1p1f1_gr_1...</td>\n",
       "      <td>[https://esgf.ceda.ac.uk/thredds/dodsC/esg_cmi...</td>\n",
       "    </tr>\n",
       "    <tr>\n",
       "      <th>2</th>\n",
       "      <td>MPI-ESM1-2-HR</td>\n",
       "      <td>[CMIP6.CMIP.MPI-M.MPI-ESM1-2-HR.historical.r1i...</td>\n",
       "      <td>[tas_day_MPI-ESM1-2-HR_historical_r1i1p1f1_gn_...</td>\n",
       "      <td>[https://esgf.ceda.ac.uk/thredds/dodsC/esg_cmi...</td>\n",
       "    </tr>\n",
       "    <tr>\n",
       "      <th>3</th>\n",
       "      <td>MRI-ESM2-0</td>\n",
       "      <td>[CMIP6.CMIP.MRI.MRI-ESM2-0.historical.r1i1p1f1...</td>\n",
       "      <td>[tas_day_MRI-ESM2-0_historical_r1i1p1f1_gn_185...</td>\n",
       "      <td>[https://esgf.ceda.ac.uk/thredds/dodsC/esg_cmi...</td>\n",
       "    </tr>\n",
       "  </tbody>\n",
       "</table>\n",
       "</div>"
      ],
      "text/plain": [
       "           model                                         dataset_id  \\\n",
       "0      GFDL-ESM4  [CMIP6.CMIP.NOAA-GFDL.GFDL-ESM4.historical.r1i...   \n",
       "1   IPSL-CM6A-LR  [CMIP6.CMIP.IPSL.IPSL-CM6A-LR.historical.r1i1p...   \n",
       "2  MPI-ESM1-2-HR  [CMIP6.CMIP.MPI-M.MPI-ESM1-2-HR.historical.r1i...   \n",
       "3     MRI-ESM2-0  [CMIP6.CMIP.MRI.MRI-ESM2-0.historical.r1i1p1f1...   \n",
       "\n",
       "                                            filename  \\\n",
       "0  [tas_day_GFDL-ESM4_historical_r1i1p1f1_gr1_185...   \n",
       "1  [tas_day_IPSL-CM6A-LR_historical_r1i1p1f1_gr_1...   \n",
       "2  [tas_day_MPI-ESM1-2-HR_historical_r1i1p1f1_gn_...   \n",
       "3  [tas_day_MRI-ESM2-0_historical_r1i1p1f1_gn_185...   \n",
       "\n",
       "                                                 url  \n",
       "0  [https://esgf.ceda.ac.uk/thredds/dodsC/esg_cmi...  \n",
       "1  [https://esgf.ceda.ac.uk/thredds/dodsC/esg_cmi...  \n",
       "2  [https://esgf.ceda.ac.uk/thredds/dodsC/esg_cmi...  \n",
       "3  [https://esgf.ceda.ac.uk/thredds/dodsC/esg_cmi...  "
      ]
     },
     "execution_count": 10,
     "metadata": {},
     "output_type": "execute_result"
    }
   ],
   "source": [
    "project='CMIP6'\n",
    "models = 'GFDL-ESM4,IPSL-CM6A-LR,MPI-ESM1-2-HR,MRI-ESM2-0'#,UKESM1-0-LL'\n",
    "variable_id = 'tas'\n",
    "table_id = 'day'\n",
    "experiment_id='historical'\n",
    "member_id='r1i1p1f1,r1i1p1f2' # f1 not available for UKESM1-0-LL\n",
    "\n",
    "connection = SearchConnection('https://esgf-data.dkrz.de/esg-search', distrib=True)\n",
    "query = connection.new_context(\n",
    "    latest = True,\n",
    "    project='CMIP6',\n",
    "    source_id=models,\n",
    "    experiment_id=experiment_id,\n",
    "    variable_id=variable_id,\n",
    "    table_id=table_id,\n",
    "    member_id=member_id,\n",
    "    data_node='esgf.ceda.ac.uk')\n",
    "\n",
    "print(\"Number of search results:\", query.hit_count)\n",
    "\n",
    "results = query.search()\n",
    "files=[]\n",
    "for i, result in enumerate(results):\n",
    "    print(\"Retrieving search results: \", result.dataset_id)\n",
    "    #print(result.json)\n",
    "    files.extend(list(map(lambda f : {'model': f.json['source_id'].pop(), 'dataset_id': result.dataset_id, 'filename': f.filename, 'url': f.opendap_url}, result.file_context().search())))    \n",
    "    \n",
    "files = list(files)\n",
    "files = pd.DataFrame.from_dict(files)\n",
    "files.drop_duplicates('filename')\n",
    "\n",
    "grouped_files = files.groupby('model', as_index=False).agg(list)\n",
    "grouped_files"
   ]
  },
  {
   "cell_type": "code",
   "execution_count": 11,
   "id": "f6d887c9-67ce-431d-b685-1c0936af6899",
   "metadata": {
    "tags": []
   },
   "outputs": [
    {
     "name": "stdout",
     "output_type": "stream",
     "text": [
      "Selecting location...\n",
      "Loading dataset:  GFDL-ESM4\n",
      "Selecting location...\n",
      "Loading dataset:  IPSL-CM6A-LR\n",
      "Selecting location...\n",
      "Loading dataset:  MPI-ESM1-2-HR\n",
      "Selecting location...\n",
      "Loading dataset:  MRI-ESM2-0\n"
     ]
    }
   ],
   "source": [
    "# load all files from url list for each model into xarray multi-file dataset\n",
    "\n",
    "start_time = W5E5.time[0].values\n",
    "end_time = W5E5.time[-1].values\n",
    "\n",
    "data={}\n",
    "for i,model in enumerate(grouped_files.model):\n",
    "    print(\"Selecting location...\")\n",
    "    print(\"Loading dataset: \", model)\n",
    "\n",
    "    data[model]=xr.open_mfdataset(grouped_files.iloc[i].url, chunks={'time': 120}).sel(\n",
    "        lat=latitude, lon=longitude, method='nearest').convert_calendar(\n",
    "        'noleap', align_on='year', missing='NaN').sel(\n",
    "        time=slice(start_time,end_time)).interpolate_na(method='nearest')"
   ]
  },
  {
   "cell_type": "code",
   "execution_count": 12,
   "id": "4a9b4fb3-0a5d-46e9-bc45-2bf99862b3b1",
   "metadata": {
    "tags": []
   },
   "outputs": [
    {
     "name": "stdout",
     "output_type": "stream",
     "text": [
      "Saving  GFDL-ESM4 for selected city  Nairobi\n",
      "[########################################] | 100% Completed | 102.48 ms\n",
      "[########################################] | 100% Completed | 101.73 ms\n",
      "[########################################] | 100% Completed | 99.05 s\n",
      "[########################################] | 100% Completed | 2.22 sms\n",
      "                          lat     lon  height  lat_bnds  lon_bnds         tas  \\\n",
      "bnds time                                                                       \n",
      "1.0  1979-01-01 12:00:00 -1.5  36.875     2.0      -2.0     36.25  293.577148   \n",
      "     1979-01-02 12:00:00 -1.5  36.875     2.0      -2.0     36.25  294.044708   \n",
      "     1979-01-03 12:00:00 -1.5  36.875     2.0      -2.0     36.25  292.982666   \n",
      "     1979-01-04 12:00:00 -1.5  36.875     2.0      -2.0     36.25  294.250641   \n",
      "     1979-01-05 12:00:00 -1.5  36.875     2.0      -2.0     36.25  294.484741   \n",
      "...                       ...     ...     ...       ...       ...         ...   \n",
      "2.0  1980-12-26 12:00:00 -1.5  36.875     2.0      -1.0     37.50  294.888824   \n",
      "     1980-12-27 12:00:00 -1.5  36.875     2.0      -1.0     37.50  292.925934   \n",
      "     1980-12-28 12:00:00 -1.5  36.875     2.0      -1.0     37.50  292.569061   \n",
      "     1980-12-29 12:00:00 -1.5  36.875     2.0      -1.0     37.50  293.097015   \n",
      "     1980-12-30 12:00:00 -1.5  36.875     2.0      -1.0     37.50  293.854767   \n",
      "\n",
      "                                    time_bnds  \n",
      "bnds time                                      \n",
      "1.0  1979-01-01 12:00:00  1979-01-01 00:00:00  \n",
      "     1979-01-02 12:00:00  1979-01-02 00:00:00  \n",
      "     1979-01-03 12:00:00  1979-01-03 00:00:00  \n",
      "     1979-01-04 12:00:00  1979-01-04 00:00:00  \n",
      "     1979-01-05 12:00:00  1979-01-05 00:00:00  \n",
      "...                                       ...  \n",
      "2.0  1980-12-26 12:00:00  1980-12-27 00:00:00  \n",
      "     1980-12-27 12:00:00  1980-12-28 00:00:00  \n",
      "     1980-12-28 12:00:00  1980-12-29 00:00:00  \n",
      "     1980-12-29 12:00:00  1980-12-30 00:00:00  \n",
      "     1980-12-30 12:00:00  1980-12-31 00:00:00  \n",
      "\n",
      "[1458 rows x 7 columns]\n",
      "Saving  IPSL-CM6A-LR for selected city  Nairobi\n",
      "[########################################] | 100% Completed | 505.77 ms\n",
      "[########################################] | 100% Completed | 51.30 ss\n",
      "                                   lon  height       lat time_bounds  \\\n",
      "time                axis_nbounds                                       \n",
      "1979-01-01 12:00:00 0             37.5     2.0 -1.267606  1979-01-01   \n",
      "                    1             37.5     2.0 -1.267606  1979-01-02   \n",
      "1979-01-02 12:00:00 0             37.5     2.0 -1.267606  1979-01-02   \n",
      "                    1             37.5     2.0 -1.267606  1979-01-03   \n",
      "1979-01-03 12:00:00 0             37.5     2.0 -1.267606  1979-01-03   \n",
      "...                                ...     ...       ...         ...   \n",
      "1980-12-28 12:00:00 1             37.5     2.0 -1.267606  1980-12-29   \n",
      "1980-12-29 12:00:00 0             37.5     2.0 -1.267606  1980-12-29   \n",
      "                    1             37.5     2.0 -1.267606  1980-12-30   \n",
      "1980-12-30 12:00:00 0             37.5     2.0 -1.267606  1980-12-30   \n",
      "                    1             37.5     2.0 -1.267606  1980-12-31   \n",
      "\n",
      "                                         tas  \n",
      "time                axis_nbounds              \n",
      "1979-01-01 12:00:00 0             291.940338  \n",
      "                    1             291.940338  \n",
      "1979-01-02 12:00:00 0             292.548828  \n",
      "                    1             292.548828  \n",
      "1979-01-03 12:00:00 0             293.276978  \n",
      "...                                      ...  \n",
      "1980-12-28 12:00:00 1             293.869141  \n",
      "1980-12-29 12:00:00 0             292.175751  \n",
      "                    1             292.175751  \n",
      "1980-12-30 12:00:00 0             291.892029  \n",
      "                    1             291.892029  \n",
      "\n",
      "[1458 rows x 5 columns]\n",
      "Saving  MPI-ESM1-2-HR for selected city  Nairobi\n",
      "[########################################] | 100% Completed | 101.96 ms\n",
      "[########################################] | 100% Completed | 102.22 ms\n",
      "[########################################] | 100% Completed | 102.93 ms\n",
      "[########################################] | 100% Completed | 179.60 s\n",
      "                              lon  height       lat  time_bnds  lat_bnds  \\\n",
      "time                bnds                                                   \n",
      "1979-01-01 12:00:00 0     36.5625     2.0 -1.402593 1979-01-01 -1.870124   \n",
      "                    1     36.5625     2.0 -1.402593 1979-01-02 -0.935062   \n",
      "1979-01-02 12:00:00 0     36.5625     2.0 -1.402593 1979-01-02 -1.870124   \n",
      "                    1     36.5625     2.0 -1.402593 1979-01-03 -0.935062   \n",
      "1979-01-03 12:00:00 0     36.5625     2.0 -1.402593 1979-01-03 -1.870124   \n",
      "...                           ...     ...       ...        ...       ...   \n",
      "1980-12-28 12:00:00 1     36.5625     2.0 -1.402593 1980-12-29 -0.935062   \n",
      "1980-12-29 12:00:00 0     36.5625     2.0 -1.402593 1980-12-29 -1.870124   \n",
      "                    1     36.5625     2.0 -1.402593 1980-12-30 -0.935062   \n",
      "1980-12-30 12:00:00 0     36.5625     2.0 -1.402593 1980-12-30 -1.870124   \n",
      "                    1     36.5625     2.0 -1.402593 1980-12-31 -0.935062   \n",
      "\n",
      "                          lon_bnds         tas  \n",
      "time                bnds                        \n",
      "1979-01-01 12:00:00 0     36.09375  291.082001  \n",
      "                    1     37.03125  291.082001  \n",
      "1979-01-02 12:00:00 0     36.09375  291.732178  \n",
      "                    1     37.03125  291.732178  \n",
      "1979-01-03 12:00:00 0     36.09375  292.584717  \n",
      "...                            ...         ...  \n",
      "1980-12-28 12:00:00 1     37.03125  290.245636  \n",
      "1980-12-29 12:00:00 0     36.09375  290.165405  \n",
      "                    1     37.03125  290.165405  \n",
      "1980-12-30 12:00:00 0     36.09375  289.784851  \n",
      "                    1     37.03125  289.784851  \n",
      "\n",
      "[1458 rows x 7 columns]\n",
      "Saving  MRI-ESM2-0 for selected city  Nairobi\n",
      "[########################################] | 100% Completed | 607.62 ms\n",
      "[########################################] | 100% Completed | 101.05 ms\n",
      "[########################################] | 100% Completed | 101.92 ms\n",
      "[####################                    ] | 52% Completed | 44.12 sms"
     ]
    }
   ],
   "source": [
    "os.chdir(wd)\n",
    "for model, dataset in data.items():\n",
    "    print(\"Saving \", model, \"for selected city \", city)\n",
    "    identifier = '_'.join([model, city])\n",
    "    years, y_datasets = zip(*dataset.groupby(\"time.year\"))\n",
    "    fns=[identifier+f'_{y}.nc' for y in years]\n",
    "    paths=[os.path.join(models_dir,fn) for fn in fns]\n",
    "    with ProgressBar():\n",
    "        xr.save_mfdataset(y_datasets[-2:], paths[-2:], mode=\"w\") # saving only 2 years of data for demo\n",
    "        ### For the purpsoe of inspecting the dataset as a pandas dataframe\n",
    "        df = dataset.to_dataframe()\n",
    "        print(\"Dataframe for (\", model, \",\", city, \"):\", df)\n"
   ]
  },
  {
   "cell_type": "code",
   "execution_count": 16,
   "id": "f5eba078",
   "metadata": {
    "tags": []
   },
   "outputs": [
    {
     "name": "stdout",
     "output_type": "stream",
     "text": [
      "Saving reference for selected city  Nairobi\n",
      "[                                        ] | 0% Completed | 272.58 us"
     ]
    },
    {
     "name": "stdout",
     "output_type": "stream",
     "text": [
      "[########################################] | 100% Completed | 4.27 ss\n",
      "[########################################] | 100% Completed | 3.24 ss\n"
     ]
    }
   ],
   "source": [
    "os.chdir(wd)\n",
    "end_time = min([dataset.time[-1].values for dataset in data.values()])\n",
    "reference = W5E5.sel(time=slice(start_time,end_time))\n",
    "print(\"Saving reference for selected city \", city)\n",
    "identifier = '_'.join(['W5E5', city])\n",
    "years, y_datasets = zip(*reference.groupby(\"time.year\"))\n",
    "fns=[identifier+f'_{y}.nc' for y in years]\n",
    "paths=[os.path.join(reference_dir,fn) for fn in fns]\n",
    "with ProgressBar():\n",
    "    xr.save_mfdataset(y_datasets[-2:], paths[-2:], mode=\"w\")"
   ]
  },
  {
   "cell_type": "code",
   "execution_count": null,
   "id": "8964e82c",
   "metadata": {},
   "outputs": [
    {
     "name": "stdout",
     "output_type": "stream",
     "text": [
      "                          lat     lon  height  lat_bnds  lon_bnds         tas  \\\n",
      "bnds time                                                                       \n",
      "1.0  1979-01-01 12:00:00 -1.5  36.875     2.0      -2.0     36.25  293.577148   \n",
      "     1979-01-02 12:00:00 -1.5  36.875     2.0      -2.0     36.25  294.044708   \n",
      "     1979-01-03 12:00:00 -1.5  36.875     2.0      -2.0     36.25  292.982666   \n",
      "     1979-01-04 12:00:00 -1.5  36.875     2.0      -2.0     36.25  294.250641   \n",
      "     1979-01-05 12:00:00 -1.5  36.875     2.0      -2.0     36.25  294.484741   \n",
      "...                       ...     ...     ...       ...       ...         ...   \n",
      "2.0  1979-12-27 12:00:00 -1.5  36.875     2.0      -1.0     37.50  291.411499   \n",
      "     1979-12-28 12:00:00 -1.5  36.875     2.0      -1.0     37.50  290.447174   \n",
      "     1979-12-29 12:00:00 -1.5  36.875     2.0      -1.0     37.50  290.641022   \n",
      "     1979-12-30 12:00:00 -1.5  36.875     2.0      -1.0     37.50  290.487762   \n",
      "     1979-12-31 12:00:00 -1.5  36.875     2.0      -1.0     37.50  289.476746   \n",
      "\n",
      "                                    time_bnds  \n",
      "bnds time                                      \n",
      "1.0  1979-01-01 12:00:00  1979-01-01 00:00:00  \n",
      "     1979-01-02 12:00:00  1979-01-02 00:00:00  \n",
      "     1979-01-03 12:00:00  1979-01-03 00:00:00  \n",
      "     1979-01-04 12:00:00  1979-01-04 00:00:00  \n",
      "     1979-01-05 12:00:00  1979-01-05 00:00:00  \n",
      "...                                       ...  \n",
      "2.0  1979-12-27 12:00:00  1979-12-28 00:00:00  \n",
      "     1979-12-28 12:00:00  1979-12-29 00:00:00  \n",
      "     1979-12-29 12:00:00  1979-12-30 00:00:00  \n",
      "     1979-12-30 12:00:00  1979-12-31 00:00:00  \n",
      "     1979-12-31 12:00:00  1980-01-01 00:00:00  \n",
      "\n",
      "[730 rows x 7 columns]\n"
     ]
    }
   ],
   "source": [
    "# ds = xr.open_dataset('/home/minh/Documents/CI_2023/data/models/GFDL-ESM4_Nairobi_1979.nc')\n",
    "# df = ds.to_dataframe()\n",
    "# print(df)\n"
   ]
  },
  {
   "cell_type": "code",
   "execution_count": null,
   "id": "8b703362",
   "metadata": {},
   "outputs": [],
   "source": []
  }
 ],
 "metadata": {
  "kernelspec": {
   "display_name": "Python 3 (ipykernel)",
   "language": "python",
   "name": "python3"
  },
  "language_info": {
   "codemirror_mode": {
    "name": "ipython",
    "version": 3
   },
   "file_extension": ".py",
   "mimetype": "text/x-python",
   "name": "python",
   "nbconvert_exporter": "python",
   "pygments_lexer": "ipython3",
   "version": "3.11.5"
  }
 },
 "nbformat": 4,
 "nbformat_minor": 5
}
