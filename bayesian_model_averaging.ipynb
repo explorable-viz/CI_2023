{
 "cells": [
  {
   "cell_type": "code",
   "execution_count": 25,
   "id": "c9b24199-10e9-463f-8bb6-eba27b783b1e",
   "metadata": {
    "tags": []
   },
   "outputs": [],
   "source": [
    "import os\n",
    "import numpy as np\n",
    "import xarray as xr\n",
    "import pandas as pd\n",
    "pd.options.mode.chained_assignment = None\n",
    "from itertools import chain\n",
    "\n",
    "from utils import *\n",
    "from bma import *\n",
    "from metric import *\n",
    "\n",
    "\n",
    "wd = '/Users/malavirdee/Documents/CI_2023'\n",
    "os.chdir(wd)\n",
    "wd = os.getcwd()\n",
    "\n",
    "models_dir=os.path.join(wd, 'data/models')\n",
    "reference_dir=os.path.join(wd, 'data/reference')"
   ]
  },
  {
   "cell_type": "code",
   "execution_count": 27,
   "id": "e5421ab4-a0bd-4847-a230-2a67ee363989",
   "metadata": {
    "tags": []
   },
   "outputs": [
    {
     "name": "stdout",
     "output_type": "stream",
     "text": [
      "GFDL-ESM4 2\n",
      "IPSL-CM6A-LR 2\n",
      "MPI-ESM1-2-HR 2\n",
      "MRI-ESM2-0 2\n"
     ]
    }
   ],
   "source": [
    "models = 'GFDL-ESM4,IPSL-CM6A-LR,MPI-ESM1-2-HR,MRI-ESM2-0'#,UKESM1-0-LL'\n",
    "model_list =models.split(',')\n",
    "data = load_mf_dataset(models_dir,models)\n",
    "reference = xr.open_mfdataset(reference_dir+'/*.nc', engine='netcdf4', chunks={'time': 120})"
   ]
  },
  {
   "cell_type": "code",
   "execution_count": 28,
   "id": "eb162b53-82fb-4e15-9ddd-bdf8fb59cbde",
   "metadata": {
    "tags": []
   },
   "outputs": [],
   "source": [
    "df = pd.DataFrame(dict(time=reference.time))\n",
    "df['W5E5'] = reference.tas.values\n",
    "for model in model_list:\n",
    "    df[model] = data[model].tas.values\n",
    "df.set_index('time', inplace=True)\n",
    "\n",
    "df['MMM'] = df[model_list].mean(axis=1)"
   ]
  },
  {
   "cell_type": "code",
   "execution_count": 29,
   "id": "39cb1726-5f8d-4fc3-9836-225b9d29de01",
   "metadata": {
    "tags": []
   },
   "outputs": [
    {
     "name": "stdout",
     "output_type": "stream",
     "text": [
      "threshold: 294.01 K\n"
     ]
    }
   ],
   "source": [
    "split_date = df.index[len(df.index)//2]\n",
    "train = df[0:len(df.index)//2]\n",
    "test = df[len(df.index)//2:]\n",
    "\n",
    "threshold = np.quantile(train.W5E5.values, 0.9)\n",
    "print(f'threshold: {threshold:.2f} K')"
   ]
  },
  {
   "cell_type": "code",
   "execution_count": 30,
   "id": "43f52089-1974-483d-ad4e-b8a82a955c5c",
   "metadata": {
    "tags": []
   },
   "outputs": [],
   "source": [
    "parameters = {}\n",
    "model_list_bc = [model + '_bc' for model in model_list]\n",
    "\n",
    "for i, model in enumerate(model_list):\n",
    "    a = train.W5E5.mean() - train[model].mean()\n",
    "    bias_corrected = train[model] + a\n",
    "    train[model+'_bc'] = bias_corrected\n",
    "    \n",
    "    parameters[model] = {\"a\": a}\n",
    "    \n",
    "train['MMM_bc'] = train[model_list_bc].mean(axis=1)\n",
    "\n",
    "for i, model in enumerate(model_list):\n",
    "    bias_corrected = test[model] + parameters[model]['a']\n",
    "    test.loc[:,model+'_bc'] = bias_corrected\n",
    "    \n",
    "test.loc[:,'MMM_bc'] = test[model_list_bc].mean(axis=1)"
   ]
  },
  {
   "cell_type": "code",
   "execution_count": 31,
   "id": "07a4838f-74bf-4400-871c-f9e4d0052b61",
   "metadata": {
    "tags": []
   },
   "outputs": [],
   "source": [
    "weights_standard = bma(train, models = model_list_bc, reference = 'W5E5');\n",
    "weights_threshold = bma_threshold(train, models = model_list_bc, reference = 'W5E5', threshold = threshold);"
   ]
  },
  {
   "cell_type": "code",
   "execution_count": 32,
   "id": "c6c4045d-06ef-4a3e-95dd-1fda5e279109",
   "metadata": {
    "tags": []
   },
   "outputs": [],
   "source": [
    "w_standard = weights_standard.detach().numpy()\n",
    "w_threshold = weights_threshold.detach().numpy()\n",
    "\n",
    "for i, model in enumerate(model_list):\n",
    "    parameters[model].update({\"w_standard\": w_standard[i]})\n",
    "    parameters[model].update({\"w_threshold\": w_threshold[i]})\n",
    "\n",
    "train['BMA_standard'] = (train[model_list_bc]*w_standard).sum(axis=1)\n",
    "test['BMA_standard'] = (test[model_list_bc]*w_standard).sum(axis=1)\n",
    "train['BMA_threshold'] = (train[model_list_bc]*w_threshold).sum(axis=1)\n",
    "test['BMA_threshold'] = (test[model_list_bc]*w_threshold).sum(axis=1)"
   ]
  },
  {
   "cell_type": "code",
   "execution_count": 33,
   "id": "42ccc004-50c4-42b5-9cfd-79fc7a8193bd",
   "metadata": {
    "tags": []
   },
   "outputs": [
    {
     "name": "stderr",
     "output_type": "stream",
     "text": [
      "/Users/malavirdee/Documents/CI_2023/metric.py:31: FutureWarning: Support for multi-dimensional indexing (e.g. `obj[:, None]`) is deprecated and will be removed in a future version.  Convert to a numpy array before indexing instead.\n",
      "  cost_matrix = np.median([np.absolute(A[:, None] - this_B[None, :]) for this_B in B], axis=0)\n",
      "/Users/malavirdee/Documents/CI_2023/metric.py:31: FutureWarning: Support for multi-dimensional indexing (e.g. `obj[:, None]`) is deprecated and will be removed in a future version.  Convert to a numpy array before indexing instead.\n",
      "  cost_matrix = np.median([np.absolute(A[:, None] - this_B[None, :]) for this_B in B], axis=0)\n",
      "/Users/malavirdee/Documents/CI_2023/metric.py:31: FutureWarning: Support for multi-dimensional indexing (e.g. `obj[:, None]`) is deprecated and will be removed in a future version.  Convert to a numpy array before indexing instead.\n",
      "  cost_matrix = np.median([np.absolute(A[:, None] - this_B[None, :]) for this_B in B], axis=0)\n",
      "/Users/malavirdee/Documents/CI_2023/metric.py:31: FutureWarning: Support for multi-dimensional indexing (e.g. `obj[:, None]`) is deprecated and will be removed in a future version.  Convert to a numpy array before indexing instead.\n",
      "  cost_matrix = np.median([np.absolute(A[:, None] - this_B[None, :]) for this_B in B], axis=0)\n",
      "/Users/malavirdee/Documents/CI_2023/metric.py:31: FutureWarning: Support for multi-dimensional indexing (e.g. `obj[:, None]`) is deprecated and will be removed in a future version.  Convert to a numpy array before indexing instead.\n",
      "  cost_matrix = np.median([np.absolute(A[:, None] - this_B[None, :]) for this_B in B], axis=0)\n"
     ]
    }
   ],
   "source": [
    "# get dataframe of reordered + bias-corrected training data\n",
    "windows = [3,7,15,21,28]\n",
    "model_list_reordered={}\n",
    "\n",
    "for window in windows:\n",
    "    model_list_reordered[window] = [model+'_w{}'.format(window) for model in model_list_bc]\n",
    "    \n",
    "for window in windows:\n",
    "    reordereds = reorder(A=train.W5E5, B=[train[model] for model in model_list_bc], window=window)\n",
    "    for model, reordered in zip(model_list_bc, reordereds):\n",
    "        train[model+'_w{}'.format(window)] = reordered"
   ]
  },
  {
   "cell_type": "code",
   "execution_count": 34,
   "id": "4dacebec-7119-4c8b-b79e-aa87dfc598c2",
   "metadata": {
    "tags": []
   },
   "outputs": [],
   "source": [
    "weights_r = {}\n",
    "for window in windows:\n",
    "    weights_r[window]=bma_threshold(train, models=model_list_reordered[window], reference='W5E5', threshold=threshold)\n",
    "    for i, model in enumerate(model_list):\n",
    "        parameters[model].update({\"w_r{}\".format(window): weights_r[window].detach().numpy()[i]})"
   ]
  },
  {
   "cell_type": "code",
   "execution_count": 35,
   "id": "e53b0d5e-1810-426a-921f-e94df68a0df0",
   "metadata": {
    "tags": []
   },
   "outputs": [],
   "source": [
    "w_r=[weights_r[i].detach().numpy() for i in windows]\n",
    "\n",
    "for i, window in enumerate(windows):\n",
    "    train['BMA_w{}'.format(window)] = (train[model_list_reordered[window]]*w_r[i]).sum(axis=1)\n",
    "    test['BMA_w{}'.format(window)] = (test[model_list_bc]*w_r[i]).sum(axis=1)"
   ]
  },
  {
   "cell_type": "code",
   "execution_count": 36,
   "id": "7f0aca43-5ef8-4587-b4f2-16a0b88bd69e",
   "metadata": {
    "tags": []
   },
   "outputs": [
    {
     "data": {
      "text/html": [
       "<div>\n",
       "<style scoped>\n",
       "    .dataframe tbody tr th:only-of-type {\n",
       "        vertical-align: middle;\n",
       "    }\n",
       "\n",
       "    .dataframe tbody tr th {\n",
       "        vertical-align: top;\n",
       "    }\n",
       "\n",
       "    .dataframe thead th {\n",
       "        text-align: right;\n",
       "    }\n",
       "</style>\n",
       "<table border=\"1\" class=\"dataframe\">\n",
       "  <thead>\n",
       "    <tr style=\"text-align: right;\">\n",
       "      <th></th>\n",
       "      <th>train_q90_n</th>\n",
       "      <th>test_q90_n</th>\n",
       "      <th>train_rmse</th>\n",
       "      <th>test_rmse</th>\n",
       "      <th>train_q90_rmse</th>\n",
       "      <th>test_q90_rmse</th>\n",
       "    </tr>\n",
       "  </thead>\n",
       "  <tbody>\n",
       "    <tr>\n",
       "      <th>BMA_w15</th>\n",
       "      <td>30</td>\n",
       "      <td>50.0</td>\n",
       "      <td>1.271</td>\n",
       "      <td>1.296</td>\n",
       "      <td>0.981</td>\n",
       "      <td>1.574</td>\n",
       "    </tr>\n",
       "    <tr>\n",
       "      <th>BMA_w28</th>\n",
       "      <td>19</td>\n",
       "      <td>33.0</td>\n",
       "      <td>1.171</td>\n",
       "      <td>1.210</td>\n",
       "      <td>1.017</td>\n",
       "      <td>1.653</td>\n",
       "    </tr>\n",
       "    <tr>\n",
       "      <th>BMA_w21</th>\n",
       "      <td>28</td>\n",
       "      <td>36.0</td>\n",
       "      <td>1.236</td>\n",
       "      <td>1.240</td>\n",
       "      <td>1.114</td>\n",
       "      <td>1.686</td>\n",
       "    </tr>\n",
       "    <tr>\n",
       "      <th>MMM_bc</th>\n",
       "      <td>13</td>\n",
       "      <td>11.0</td>\n",
       "      <td>1.346</td>\n",
       "      <td>1.144</td>\n",
       "      <td>1.615</td>\n",
       "      <td>1.699</td>\n",
       "    </tr>\n",
       "    <tr>\n",
       "      <th>BMA_standard</th>\n",
       "      <td>6</td>\n",
       "      <td>20.0</td>\n",
       "      <td>1.252</td>\n",
       "      <td>1.177</td>\n",
       "      <td>1.883</td>\n",
       "      <td>1.863</td>\n",
       "    </tr>\n",
       "    <tr>\n",
       "      <th>BMA_w7</th>\n",
       "      <td>41</td>\n",
       "      <td>26.0</td>\n",
       "      <td>1.424</td>\n",
       "      <td>1.350</td>\n",
       "      <td>1.117</td>\n",
       "      <td>1.987</td>\n",
       "    </tr>\n",
       "    <tr>\n",
       "      <th>BMA_w3</th>\n",
       "      <td>46</td>\n",
       "      <td>34.0</td>\n",
       "      <td>1.587</td>\n",
       "      <td>1.482</td>\n",
       "      <td>0.999</td>\n",
       "      <td>2.161</td>\n",
       "    </tr>\n",
       "    <tr>\n",
       "      <th>BMA_threshold</th>\n",
       "      <td>46</td>\n",
       "      <td>23.0</td>\n",
       "      <td>1.554</td>\n",
       "      <td>1.444</td>\n",
       "      <td>1.356</td>\n",
       "      <td>2.210</td>\n",
       "    </tr>\n",
       "    <tr>\n",
       "      <th>W5E5</th>\n",
       "      <td>37</td>\n",
       "      <td>19.0</td>\n",
       "      <td>NaN</td>\n",
       "      <td>NaN</td>\n",
       "      <td>NaN</td>\n",
       "      <td>NaN</td>\n",
       "    </tr>\n",
       "  </tbody>\n",
       "</table>\n",
       "</div>"
      ],
      "text/plain": [
       "               train_q90_n  test_q90_n  train_rmse  test_rmse  train_q90_rmse  \\\n",
       "BMA_w15                 30        50.0       1.271      1.296           0.981   \n",
       "BMA_w28                 19        33.0       1.171      1.210           1.017   \n",
       "BMA_w21                 28        36.0       1.236      1.240           1.114   \n",
       "MMM_bc                  13        11.0       1.346      1.144           1.615   \n",
       "BMA_standard             6        20.0       1.252      1.177           1.883   \n",
       "BMA_w7                  41        26.0       1.424      1.350           1.117   \n",
       "BMA_w3                  46        34.0       1.587      1.482           0.999   \n",
       "BMA_threshold           46        23.0       1.554      1.444           1.356   \n",
       "W5E5                    37        19.0         NaN        NaN             NaN   \n",
       "\n",
       "               test_q90_rmse  \n",
       "BMA_w15                1.574  \n",
       "BMA_w28                1.653  \n",
       "BMA_w21                1.686  \n",
       "MMM_bc                 1.699  \n",
       "BMA_standard           1.863  \n",
       "BMA_w7                 1.987  \n",
       "BMA_w3                 2.161  \n",
       "BMA_threshold          2.210  \n",
       "W5E5                     NaN  "
      ]
     },
     "execution_count": 36,
     "metadata": {},
     "output_type": "execute_result"
    }
   ],
   "source": [
    "M_list = ['BMA_w{}'.format(w) for w in windows] + ['BMA_standard', 'BMA_threshold', 'MMM_bc']\n",
    "model_list_w = list(chain.from_iterable(model_list_reordered.values()))\n",
    "\n",
    "\n",
    "evaluate = pd.DataFrame(dict(\n",
    "    train_q90_n = train[train > threshold].count(),\n",
    "    test_q90_n = test[test > threshold].count(),\n",
    "    train_rmse = (train[model_list+model_list_bc + model_list_w  + M_list + ['MMM']].subtract(train.W5E5, axis=0)**2).mean()**0.5,\n",
    "    test_rmse = (test[model_list+model_list_bc + M_list + ['MMM']].subtract(test.W5E5, axis=0)**2).mean()**0.5,\n",
    "    train_q90_rmse = (train[train[train>threshold].W5E5.notnull()][model_list+model_list_bc + model_list_w + M_list + ['MMM']].subtract(\n",
    "        train[train[train>threshold].W5E5.notnull()].W5E5, axis=0)**2).mean()**0.5,\n",
    "    test_q90_rmse = (test[test[test>threshold].W5E5.notnull()][model_list+model_list_bc + M_list + ['MMM']].subtract(\n",
    "        test[test[test>threshold].W5E5.notnull()].W5E5, axis=0)**2).mean()**0.5,\n",
    "))\n",
    "    \n",
    "evaluate.loc[['W5E5'] + M_list].round(3).sort_values('test_q90_rmse')"
   ]
  }
 ],
 "metadata": {
  "kernelspec": {
   "display_name": "Python 3 (ipykernel)",
   "language": "python",
   "name": "python3"
  },
  "language_info": {
   "codemirror_mode": {
    "name": "ipython",
    "version": 3
   },
   "file_extension": ".py",
   "mimetype": "text/x-python",
   "name": "python",
   "nbconvert_exporter": "python",
   "pygments_lexer": "ipython3",
   "version": "3.9.16"
  }
 },
 "nbformat": 4,
 "nbformat_minor": 5
}
